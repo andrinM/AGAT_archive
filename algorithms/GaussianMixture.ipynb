{
 "cells": [
  {
   "cell_type": "code",
   "execution_count": 4,
   "metadata": {},
   "outputs": [
    {
     "data": {
      "text/html": [
       "<div>\n",
       "<style scoped>\n",
       "    .dataframe tbody tr th:only-of-type {\n",
       "        vertical-align: middle;\n",
       "    }\n",
       "\n",
       "    .dataframe tbody tr th {\n",
       "        vertical-align: top;\n",
       "    }\n",
       "\n",
       "    .dataframe thead th {\n",
       "        text-align: right;\n",
       "    }\n",
       "</style>\n",
       "<table border=\"1\" class=\"dataframe\">\n",
       "  <thead>\n",
       "    <tr style=\"text-align: right;\">\n",
       "      <th></th>\n",
       "      <th>Name</th>\n",
       "      <th>f1</th>\n",
       "      <th>f2</th>\n",
       "    </tr>\n",
       "  </thead>\n",
       "  <tbody>\n",
       "    <tr>\n",
       "      <th>0</th>\n",
       "      <td>Stephen George</td>\n",
       "      <td>2</td>\n",
       "      <td>5</td>\n",
       "    </tr>\n",
       "    <tr>\n",
       "      <th>1</th>\n",
       "      <td>Alicia Jenkins</td>\n",
       "      <td>3</td>\n",
       "      <td>5</td>\n",
       "    </tr>\n",
       "    <tr>\n",
       "      <th>2</th>\n",
       "      <td>Stacey Hoffman</td>\n",
       "      <td>1</td>\n",
       "      <td>1</td>\n",
       "    </tr>\n",
       "    <tr>\n",
       "      <th>3</th>\n",
       "      <td>Amber King</td>\n",
       "      <td>1</td>\n",
       "      <td>1</td>\n",
       "    </tr>\n",
       "    <tr>\n",
       "      <th>4</th>\n",
       "      <td>Eric Bowman</td>\n",
       "      <td>2</td>\n",
       "      <td>1</td>\n",
       "    </tr>\n",
       "    <tr>\n",
       "      <th>5</th>\n",
       "      <td>Jeffrey Fernandez</td>\n",
       "      <td>2</td>\n",
       "      <td>5</td>\n",
       "    </tr>\n",
       "    <tr>\n",
       "      <th>6</th>\n",
       "      <td>Anthony Edwards</td>\n",
       "      <td>3</td>\n",
       "      <td>4</td>\n",
       "    </tr>\n",
       "    <tr>\n",
       "      <th>7</th>\n",
       "      <td>John Galloway</td>\n",
       "      <td>3</td>\n",
       "      <td>1</td>\n",
       "    </tr>\n",
       "    <tr>\n",
       "      <th>8</th>\n",
       "      <td>Jocelyn Lee</td>\n",
       "      <td>1</td>\n",
       "      <td>5</td>\n",
       "    </tr>\n",
       "    <tr>\n",
       "      <th>9</th>\n",
       "      <td>Tamara Palmer</td>\n",
       "      <td>2</td>\n",
       "      <td>4</td>\n",
       "    </tr>\n",
       "    <tr>\n",
       "      <th>10</th>\n",
       "      <td>Mary Carrillo</td>\n",
       "      <td>1</td>\n",
       "      <td>5</td>\n",
       "    </tr>\n",
       "    <tr>\n",
       "      <th>11</th>\n",
       "      <td>Michael Rodriguez</td>\n",
       "      <td>1</td>\n",
       "      <td>1</td>\n",
       "    </tr>\n",
       "    <tr>\n",
       "      <th>12</th>\n",
       "      <td>Daniel Franklin</td>\n",
       "      <td>1</td>\n",
       "      <td>4</td>\n",
       "    </tr>\n",
       "    <tr>\n",
       "      <th>13</th>\n",
       "      <td>Matthew Barron</td>\n",
       "      <td>1</td>\n",
       "      <td>4</td>\n",
       "    </tr>\n",
       "    <tr>\n",
       "      <th>14</th>\n",
       "      <td>Sarah Ross</td>\n",
       "      <td>2</td>\n",
       "      <td>2</td>\n",
       "    </tr>\n",
       "    <tr>\n",
       "      <th>15</th>\n",
       "      <td>Cole Edwards</td>\n",
       "      <td>2</td>\n",
       "      <td>5</td>\n",
       "    </tr>\n",
       "    <tr>\n",
       "      <th>16</th>\n",
       "      <td>John Wilkerson</td>\n",
       "      <td>2</td>\n",
       "      <td>3</td>\n",
       "    </tr>\n",
       "    <tr>\n",
       "      <th>17</th>\n",
       "      <td>Cheyenne Lucas</td>\n",
       "      <td>1</td>\n",
       "      <td>2</td>\n",
       "    </tr>\n",
       "    <tr>\n",
       "      <th>18</th>\n",
       "      <td>Elizabeth Taylor</td>\n",
       "      <td>1</td>\n",
       "      <td>3</td>\n",
       "    </tr>\n",
       "    <tr>\n",
       "      <th>19</th>\n",
       "      <td>Heidi Stevens</td>\n",
       "      <td>1</td>\n",
       "      <td>3</td>\n",
       "    </tr>\n",
       "    <tr>\n",
       "      <th>20</th>\n",
       "      <td>Mrs. Melissa Jackson</td>\n",
       "      <td>2</td>\n",
       "      <td>1</td>\n",
       "    </tr>\n",
       "    <tr>\n",
       "      <th>21</th>\n",
       "      <td>Shirley Mercado</td>\n",
       "      <td>1</td>\n",
       "      <td>1</td>\n",
       "    </tr>\n",
       "    <tr>\n",
       "      <th>22</th>\n",
       "      <td>Angela Rogers</td>\n",
       "      <td>2</td>\n",
       "      <td>5</td>\n",
       "    </tr>\n",
       "    <tr>\n",
       "      <th>23</th>\n",
       "      <td>Gregory Hines</td>\n",
       "      <td>1</td>\n",
       "      <td>2</td>\n",
       "    </tr>\n",
       "    <tr>\n",
       "      <th>24</th>\n",
       "      <td>Scott Baldwin</td>\n",
       "      <td>2</td>\n",
       "      <td>4</td>\n",
       "    </tr>\n",
       "    <tr>\n",
       "      <th>25</th>\n",
       "      <td>Robert Brown</td>\n",
       "      <td>1</td>\n",
       "      <td>3</td>\n",
       "    </tr>\n",
       "    <tr>\n",
       "      <th>26</th>\n",
       "      <td>Stephen Ortiz</td>\n",
       "      <td>1</td>\n",
       "      <td>2</td>\n",
       "    </tr>\n",
       "    <tr>\n",
       "      <th>27</th>\n",
       "      <td>Jenna Berg</td>\n",
       "      <td>3</td>\n",
       "      <td>1</td>\n",
       "    </tr>\n",
       "    <tr>\n",
       "      <th>28</th>\n",
       "      <td>Alexandra Smith</td>\n",
       "      <td>2</td>\n",
       "      <td>3</td>\n",
       "    </tr>\n",
       "    <tr>\n",
       "      <th>29</th>\n",
       "      <td>Juan Butler</td>\n",
       "      <td>3</td>\n",
       "      <td>2</td>\n",
       "    </tr>\n",
       "  </tbody>\n",
       "</table>\n",
       "</div>"
      ],
      "text/plain": [
       "                    Name  f1  f2\n",
       "0         Stephen George   2   5\n",
       "1         Alicia Jenkins   3   5\n",
       "2         Stacey Hoffman   1   1\n",
       "3             Amber King   1   1\n",
       "4            Eric Bowman   2   1\n",
       "5      Jeffrey Fernandez   2   5\n",
       "6        Anthony Edwards   3   4\n",
       "7          John Galloway   3   1\n",
       "8            Jocelyn Lee   1   5\n",
       "9          Tamara Palmer   2   4\n",
       "10         Mary Carrillo   1   5\n",
       "11     Michael Rodriguez   1   1\n",
       "12       Daniel Franklin   1   4\n",
       "13        Matthew Barron   1   4\n",
       "14            Sarah Ross   2   2\n",
       "15          Cole Edwards   2   5\n",
       "16        John Wilkerson   2   3\n",
       "17        Cheyenne Lucas   1   2\n",
       "18      Elizabeth Taylor   1   3\n",
       "19         Heidi Stevens   1   3\n",
       "20  Mrs. Melissa Jackson   2   1\n",
       "21       Shirley Mercado   1   1\n",
       "22         Angela Rogers   2   5\n",
       "23         Gregory Hines   1   2\n",
       "24         Scott Baldwin   2   4\n",
       "25          Robert Brown   1   3\n",
       "26         Stephen Ortiz   1   2\n",
       "27            Jenna Berg   3   1\n",
       "28       Alexandra Smith   2   3\n",
       "29           Juan Butler   3   2"
      ]
     },
     "execution_count": 4,
     "metadata": {},
     "output_type": "execute_result"
    }
   ],
   "source": [
    "import pandas as pd \n",
    "import seaborn as sns \n",
    "import numpy as np \n",
    "import plotly.express as px \n",
    "# choose model class\n",
    "from sklearn.mixture import GaussianMixture\n",
    "from Data import testData\n",
    "\n",
    "members = testData.df\n",
    "\n",
    "members\n"
   ]
  },
  {
   "cell_type": "code",
   "execution_count": 5,
   "metadata": {},
   "outputs": [
    {
     "data": {
      "application/vnd.plotly.v1+json": {
       "config": {
        "plotlyServerURL": "https://plot.ly"
       },
       "data": [
        {
         "hovertemplate": "<b>%{hovertext}</b><br><br>Name=Stephen George<br>f1=%{x}<br>f2=%{y}<br>size=%{marker.size}<extra></extra>",
         "hovertext": [
          "Stephen George"
         ],
         "legendgroup": "Stephen George",
         "marker": {
          "color": "#636efa",
          "opacity": 0.4,
          "size": [
           344.22336528547004
          ],
          "sizemode": "area",
          "sizeref": 1.1675543949453122,
          "symbol": "circle"
         },
         "mode": "markers",
         "name": "Stephen George",
         "orientation": "v",
         "showlegend": true,
         "type": "scatter",
         "x": [
          2
         ],
         "xaxis": "x",
         "y": [
          5
         ],
         "yaxis": "y"
        },
        {
         "hovertemplate": "<b>%{hovertext}</b><br><br>Name=Alicia Jenkins<br>f1=%{x}<br>f2=%{y}<br>size=%{marker.size}<extra></extra>",
         "hovertext": [
          "Alicia Jenkins"
         ],
         "legendgroup": "Alicia Jenkins",
         "marker": {
          "color": "#EF553B",
          "opacity": 0.4,
          "size": [
           194.4607119895519
          ],
          "sizemode": "area",
          "sizeref": 1.1675543949453122,
          "symbol": "circle"
         },
         "mode": "markers",
         "name": "Alicia Jenkins",
         "orientation": "v",
         "showlegend": true,
         "type": "scatter",
         "x": [
          3
         ],
         "xaxis": "x",
         "y": [
          5
         ],
         "yaxis": "y"
        },
        {
         "hovertemplate": "<b>%{hovertext}</b><br><br>Name=Stacey Hoffman<br>f1=%{x}<br>f2=%{y}<br>size=%{marker.size}<extra></extra>",
         "hovertext": [
          "Stacey Hoffman"
         ],
         "legendgroup": "Stacey Hoffman",
         "marker": {
          "color": "#00cc96",
          "opacity": 0.4,
          "size": [
           67.5482525112056
          ],
          "sizemode": "area",
          "sizeref": 1.1675543949453122,
          "symbol": "circle"
         },
         "mode": "markers",
         "name": "Stacey Hoffman",
         "orientation": "v",
         "showlegend": true,
         "type": "scatter",
         "x": [
          1
         ],
         "xaxis": "x",
         "y": [
          1
         ],
         "yaxis": "y"
        },
        {
         "hovertemplate": "<b>%{hovertext}</b><br><br>Name=Amber King<br>f1=%{x}<br>f2=%{y}<br>size=%{marker.size}<extra></extra>",
         "hovertext": [
          "Amber King"
         ],
         "legendgroup": "Amber King",
         "marker": {
          "color": "#ab63fa",
          "opacity": 0.4,
          "size": [
           360.74417009704086
          ],
          "sizemode": "area",
          "sizeref": 1.1675543949453122,
          "symbol": "circle"
         },
         "mode": "markers",
         "name": "Amber King",
         "orientation": "v",
         "showlegend": true,
         "type": "scatter",
         "x": [
          1
         ],
         "xaxis": "x",
         "y": [
          1
         ],
         "yaxis": "y"
        },
        {
         "hovertemplate": "<b>%{hovertext}</b><br><br>Name=Eric Bowman<br>f1=%{x}<br>f2=%{y}<br>size=%{marker.size}<extra></extra>",
         "hovertext": [
          "Eric Bowman"
         ],
         "legendgroup": "Eric Bowman",
         "marker": {
          "color": "#FFA15A",
          "opacity": 0.4,
          "size": [
           262.67716123786295
          ],
          "sizemode": "area",
          "sizeref": 1.1675543949453122,
          "symbol": "circle"
         },
         "mode": "markers",
         "name": "Eric Bowman",
         "orientation": "v",
         "showlegend": true,
         "type": "scatter",
         "x": [
          2
         ],
         "xaxis": "x",
         "y": [
          1
         ],
         "yaxis": "y"
        },
        {
         "hovertemplate": "<b>%{hovertext}</b><br><br>Name=Jeffrey Fernandez<br>f1=%{x}<br>f2=%{y}<br>size=%{marker.size}<extra></extra>",
         "hovertext": [
          "Jeffrey Fernandez"
         ],
         "legendgroup": "Jeffrey Fernandez",
         "marker": {
          "color": "#19d3f3",
          "opacity": 0.4,
          "size": [
           155.12093777947783
          ],
          "sizemode": "area",
          "sizeref": 1.1675543949453122,
          "symbol": "circle"
         },
         "mode": "markers",
         "name": "Jeffrey Fernandez",
         "orientation": "v",
         "showlegend": true,
         "type": "scatter",
         "x": [
          2
         ],
         "xaxis": "x",
         "y": [
          5
         ],
         "yaxis": "y"
        },
        {
         "hovertemplate": "<b>%{hovertext}</b><br><br>Name=Anthony Edwards<br>f1=%{x}<br>f2=%{y}<br>size=%{marker.size}<extra></extra>",
         "hovertext": [
          "Anthony Edwards"
         ],
         "legendgroup": "Anthony Edwards",
         "marker": {
          "color": "#FF6692",
          "opacity": 0.4,
          "size": [
           242.91767941589453
          ],
          "sizemode": "area",
          "sizeref": 1.1675543949453122,
          "symbol": "circle"
         },
         "mode": "markers",
         "name": "Anthony Edwards",
         "orientation": "v",
         "showlegend": true,
         "type": "scatter",
         "x": [
          3
         ],
         "xaxis": "x",
         "y": [
          4
         ],
         "yaxis": "y"
        },
        {
         "hovertemplate": "<b>%{hovertext}</b><br><br>Name=John Galloway<br>f1=%{x}<br>f2=%{y}<br>size=%{marker.size}<extra></extra>",
         "hovertext": [
          "John Galloway"
         ],
         "legendgroup": "John Galloway",
         "marker": {
          "color": "#B6E880",
          "opacity": 0.4,
          "size": [
           444.7439171745001
          ],
          "sizemode": "area",
          "sizeref": 1.1675543949453122,
          "symbol": "circle"
         },
         "mode": "markers",
         "name": "John Galloway",
         "orientation": "v",
         "showlegend": true,
         "type": "scatter",
         "x": [
          3
         ],
         "xaxis": "x",
         "y": [
          1
         ],
         "yaxis": "y"
        },
        {
         "hovertemplate": "<b>%{hovertext}</b><br><br>Name=Jocelyn Lee<br>f1=%{x}<br>f2=%{y}<br>size=%{marker.size}<extra></extra>",
         "hovertext": [
          "Jocelyn Lee"
         ],
         "legendgroup": "Jocelyn Lee",
         "marker": {
          "color": "#FF97FF",
          "opacity": 0.4,
          "size": [
           467.02175797812487
          ],
          "sizemode": "area",
          "sizeref": 1.1675543949453122,
          "symbol": "circle"
         },
         "mode": "markers",
         "name": "Jocelyn Lee",
         "orientation": "v",
         "showlegend": true,
         "type": "scatter",
         "x": [
          1
         ],
         "xaxis": "x",
         "y": [
          5
         ],
         "yaxis": "y"
        },
        {
         "hovertemplate": "<b>%{hovertext}</b><br><br>Name=Tamara Palmer<br>f1=%{x}<br>f2=%{y}<br>size=%{marker.size}<extra></extra>",
         "hovertext": [
          "Tamara Palmer"
         ],
         "legendgroup": "Tamara Palmer",
         "marker": {
          "color": "#FECB52",
          "opacity": 0.4,
          "size": [
           178.89759835453512
          ],
          "sizemode": "area",
          "sizeref": 1.1675543949453122,
          "symbol": "circle"
         },
         "mode": "markers",
         "name": "Tamara Palmer",
         "orientation": "v",
         "showlegend": true,
         "type": "scatter",
         "x": [
          2
         ],
         "xaxis": "x",
         "y": [
          4
         ],
         "yaxis": "y"
        },
        {
         "hovertemplate": "<b>%{hovertext}</b><br><br>Name=Mary Carrillo<br>f1=%{x}<br>f2=%{y}<br>size=%{marker.size}<extra></extra>",
         "hovertext": [
          "Mary Carrillo"
         ],
         "legendgroup": "Mary Carrillo",
         "marker": {
          "color": "#636efa",
          "opacity": 0.4,
          "size": [
           285.7649153648805
          ],
          "sizemode": "area",
          "sizeref": 1.1675543949453122,
          "symbol": "circle"
         },
         "mode": "markers",
         "name": "Mary Carrillo",
         "orientation": "v",
         "showlegend": true,
         "type": "scatter",
         "x": [
          1
         ],
         "xaxis": "x",
         "y": [
          5
         ],
         "yaxis": "y"
        },
        {
         "hovertemplate": "<b>%{hovertext}</b><br><br>Name=Michael Rodriguez<br>f1=%{x}<br>f2=%{y}<br>size=%{marker.size}<extra></extra>",
         "hovertext": [
          "Michael Rodriguez"
         ],
         "legendgroup": "Michael Rodriguez",
         "marker": {
          "color": "#EF553B",
          "opacity": 0.4,
          "size": [
           160.93469553797107
          ],
          "sizemode": "area",
          "sizeref": 1.1675543949453122,
          "symbol": "circle"
         },
         "mode": "markers",
         "name": "Michael Rodriguez",
         "orientation": "v",
         "showlegend": true,
         "type": "scatter",
         "x": [
          1
         ],
         "xaxis": "x",
         "y": [
          1
         ],
         "yaxis": "y"
        },
        {
         "hovertemplate": "<b>%{hovertext}</b><br><br>Name=Daniel Franklin<br>f1=%{x}<br>f2=%{y}<br>size=%{marker.size}<extra></extra>",
         "hovertext": [
          "Daniel Franklin"
         ],
         "legendgroup": "Daniel Franklin",
         "marker": {
          "color": "#00cc96",
          "opacity": 0.4,
          "size": [
           297.1500150998484
          ],
          "sizemode": "area",
          "sizeref": 1.1675543949453122,
          "symbol": "circle"
         },
         "mode": "markers",
         "name": "Daniel Franklin",
         "orientation": "v",
         "showlegend": true,
         "type": "scatter",
         "x": [
          1
         ],
         "xaxis": "x",
         "y": [
          4
         ],
         "yaxis": "y"
        },
        {
         "hovertemplate": "<b>%{hovertext}</b><br><br>Name=Matthew Barron<br>f1=%{x}<br>f2=%{y}<br>size=%{marker.size}<extra></extra>",
         "hovertext": [
          "Matthew Barron"
         ],
         "legendgroup": "Matthew Barron",
         "marker": {
          "color": "#ab63fa",
          "opacity": 0.4,
          "size": [
           168.95561275356664
          ],
          "sizemode": "area",
          "sizeref": 1.1675543949453122,
          "symbol": "circle"
         },
         "mode": "markers",
         "name": "Matthew Barron",
         "orientation": "v",
         "showlegend": true,
         "type": "scatter",
         "x": [
          1
         ],
         "xaxis": "x",
         "y": [
          4
         ],
         "yaxis": "y"
        },
        {
         "hovertemplate": "<b>%{hovertext}</b><br><br>Name=Sarah Ross<br>f1=%{x}<br>f2=%{y}<br>size=%{marker.size}<extra></extra>",
         "hovertext": [
          "Sarah Ross"
         ],
         "legendgroup": "Sarah Ross",
         "marker": {
          "color": "#FFA15A",
          "opacity": 0.4,
          "size": [
           195.8095002640806
          ],
          "sizemode": "area",
          "sizeref": 1.1675543949453122,
          "symbol": "circle"
         },
         "mode": "markers",
         "name": "Sarah Ross",
         "orientation": "v",
         "showlegend": true,
         "type": "scatter",
         "x": [
          2
         ],
         "xaxis": "x",
         "y": [
          2
         ],
         "yaxis": "y"
        },
        {
         "hovertemplate": "<b>%{hovertext}</b><br><br>Name=Cole Edwards<br>f1=%{x}<br>f2=%{y}<br>size=%{marker.size}<extra></extra>",
         "hovertext": [
          "Cole Edwards"
         ],
         "legendgroup": "Cole Edwards",
         "marker": {
          "color": "#19d3f3",
          "opacity": 0.4,
          "size": [
           445.1371760023962
          ],
          "sizemode": "area",
          "sizeref": 1.1675543949453122,
          "symbol": "circle"
         },
         "mode": "markers",
         "name": "Cole Edwards",
         "orientation": "v",
         "showlegend": true,
         "type": "scatter",
         "x": [
          2
         ],
         "xaxis": "x",
         "y": [
          5
         ],
         "yaxis": "y"
        },
        {
         "hovertemplate": "<b>%{hovertext}</b><br><br>Name=John Wilkerson<br>f1=%{x}<br>f2=%{y}<br>size=%{marker.size}<extra></extra>",
         "hovertext": [
          "John Wilkerson"
         ],
         "legendgroup": "John Wilkerson",
         "marker": {
          "color": "#FF6692",
          "opacity": 0.4,
          "size": [
           113.57879676668986
          ],
          "sizemode": "area",
          "sizeref": 1.1675543949453122,
          "symbol": "circle"
         },
         "mode": "markers",
         "name": "John Wilkerson",
         "orientation": "v",
         "showlegend": true,
         "type": "scatter",
         "x": [
          2
         ],
         "xaxis": "x",
         "y": [
          3
         ],
         "yaxis": "y"
        },
        {
         "hovertemplate": "<b>%{hovertext}</b><br><br>Name=Cheyenne Lucas<br>f1=%{x}<br>f2=%{y}<br>size=%{marker.size}<extra></extra>",
         "hovertext": [
          "Cheyenne Lucas"
         ],
         "legendgroup": "Cheyenne Lucas",
         "marker": {
          "color": "#B6E880",
          "opacity": 0.4,
          "size": [
           311.5935723430212
          ],
          "sizemode": "area",
          "sizeref": 1.1675543949453122,
          "symbol": "circle"
         },
         "mode": "markers",
         "name": "Cheyenne Lucas",
         "orientation": "v",
         "showlegend": true,
         "type": "scatter",
         "x": [
          1
         ],
         "xaxis": "x",
         "y": [
          2
         ],
         "yaxis": "y"
        },
        {
         "hovertemplate": "<b>%{hovertext}</b><br><br>Name=Elizabeth Taylor<br>f1=%{x}<br>f2=%{y}<br>size=%{marker.size}<extra></extra>",
         "hovertext": [
          "Elizabeth Taylor"
         ],
         "legendgroup": "Elizabeth Taylor",
         "marker": {
          "color": "#FF97FF",
          "opacity": 0.4,
          "size": [
           42.007671791192415
          ],
          "sizemode": "area",
          "sizeref": 1.1675543949453122,
          "symbol": "circle"
         },
         "mode": "markers",
         "name": "Elizabeth Taylor",
         "orientation": "v",
         "showlegend": true,
         "type": "scatter",
         "x": [
          1
         ],
         "xaxis": "x",
         "y": [
          3
         ],
         "yaxis": "y"
        },
        {
         "hovertemplate": "<b>%{hovertext}</b><br><br>Name=Heidi Stevens<br>f1=%{x}<br>f2=%{y}<br>size=%{marker.size}<extra></extra>",
         "hovertext": [
          "Heidi Stevens"
         ],
         "legendgroup": "Heidi Stevens",
         "marker": {
          "color": "#FECB52",
          "opacity": 0.4,
          "size": [
           416.3220738266989
          ],
          "sizemode": "area",
          "sizeref": 1.1675543949453122,
          "symbol": "circle"
         },
         "mode": "markers",
         "name": "Heidi Stevens",
         "orientation": "v",
         "showlegend": true,
         "type": "scatter",
         "x": [
          1
         ],
         "xaxis": "x",
         "y": [
          3
         ],
         "yaxis": "y"
        },
        {
         "hovertemplate": "<b>%{hovertext}</b><br><br>Name=Mrs. Melissa Jackson<br>f1=%{x}<br>f2=%{y}<br>size=%{marker.size}<extra></extra>",
         "hovertext": [
          "Mrs. Melissa Jackson"
         ],
         "legendgroup": "Mrs. Melissa Jackson",
         "marker": {
          "color": "#636efa",
          "opacity": 0.4,
          "size": [
           393.5491537443417
          ],
          "sizemode": "area",
          "sizeref": 1.1675543949453122,
          "symbol": "circle"
         },
         "mode": "markers",
         "name": "Mrs. Melissa Jackson",
         "orientation": "v",
         "showlegend": true,
         "type": "scatter",
         "x": [
          2
         ],
         "xaxis": "x",
         "y": [
          1
         ],
         "yaxis": "y"
        },
        {
         "hovertemplate": "<b>%{hovertext}</b><br><br>Name=Shirley Mercado<br>f1=%{x}<br>f2=%{y}<br>size=%{marker.size}<extra></extra>",
         "hovertext": [
          "Shirley Mercado"
         ],
         "legendgroup": "Shirley Mercado",
         "marker": {
          "color": "#EF553B",
          "opacity": 0.4,
          "size": [
           119.68472149647607
          ],
          "sizemode": "area",
          "sizeref": 1.1675543949453122,
          "symbol": "circle"
         },
         "mode": "markers",
         "name": "Shirley Mercado",
         "orientation": "v",
         "showlegend": true,
         "type": "scatter",
         "x": [
          1
         ],
         "xaxis": "x",
         "y": [
          1
         ],
         "yaxis": "y"
        },
        {
         "hovertemplate": "<b>%{hovertext}</b><br><br>Name=Angela Rogers<br>f1=%{x}<br>f2=%{y}<br>size=%{marker.size}<extra></extra>",
         "hovertext": [
          "Angela Rogers"
         ],
         "legendgroup": "Angela Rogers",
         "marker": {
          "color": "#00cc96",
          "opacity": 0.4,
          "size": [
           438.2421154053519
          ],
          "sizemode": "area",
          "sizeref": 1.1675543949453122,
          "symbol": "circle"
         },
         "mode": "markers",
         "name": "Angela Rogers",
         "orientation": "v",
         "showlegend": true,
         "type": "scatter",
         "x": [
          2
         ],
         "xaxis": "x",
         "y": [
          5
         ],
         "yaxis": "y"
        },
        {
         "hovertemplate": "<b>%{hovertext}</b><br><br>Name=Gregory Hines<br>f1=%{x}<br>f2=%{y}<br>size=%{marker.size}<extra></extra>",
         "hovertext": [
          "Gregory Hines"
         ],
         "legendgroup": "Gregory Hines",
         "marker": {
          "color": "#ab63fa",
          "opacity": 0.4,
          "size": [
           29.284017402597172
          ],
          "sizemode": "area",
          "sizeref": 1.1675543949453122,
          "symbol": "circle"
         },
         "mode": "markers",
         "name": "Gregory Hines",
         "orientation": "v",
         "showlegend": true,
         "type": "scatter",
         "x": [
          1
         ],
         "xaxis": "x",
         "y": [
          2
         ],
         "yaxis": "y"
        },
        {
         "hovertemplate": "<b>%{hovertext}</b><br><br>Name=Scott Baldwin<br>f1=%{x}<br>f2=%{y}<br>size=%{marker.size}<extra></extra>",
         "hovertext": [
          "Scott Baldwin"
         ],
         "legendgroup": "Scott Baldwin",
         "marker": {
          "color": "#FFA15A",
          "opacity": 0.4,
          "size": [
           168.05853027283018
          ],
          "sizemode": "area",
          "sizeref": 1.1675543949453122,
          "symbol": "circle"
         },
         "mode": "markers",
         "name": "Scott Baldwin",
         "orientation": "v",
         "showlegend": true,
         "type": "scatter",
         "x": [
          2
         ],
         "xaxis": "x",
         "y": [
          4
         ],
         "yaxis": "y"
        },
        {
         "hovertemplate": "<b>%{hovertext}</b><br><br>Name=Robert Brown<br>f1=%{x}<br>f2=%{y}<br>size=%{marker.size}<extra></extra>",
         "hovertext": [
          "Robert Brown"
         ],
         "legendgroup": "Robert Brown",
         "marker": {
          "color": "#19d3f3",
          "opacity": 0.4,
          "size": [
           75.13973344741953
          ],
          "sizemode": "area",
          "sizeref": 1.1675543949453122,
          "symbol": "circle"
         },
         "mode": "markers",
         "name": "Robert Brown",
         "orientation": "v",
         "showlegend": true,
         "type": "scatter",
         "x": [
          1
         ],
         "xaxis": "x",
         "y": [
          3
         ],
         "yaxis": "y"
        },
        {
         "hovertemplate": "<b>%{hovertext}</b><br><br>Name=Stephen Ortiz<br>f1=%{x}<br>f2=%{y}<br>size=%{marker.size}<extra></extra>",
         "hovertext": [
          "Stephen Ortiz"
         ],
         "legendgroup": "Stephen Ortiz",
         "marker": {
          "color": "#FF6692",
          "opacity": 0.4,
          "size": [
           225.1696833246435
          ],
          "sizemode": "area",
          "sizeref": 1.1675543949453122,
          "symbol": "circle"
         },
         "mode": "markers",
         "name": "Stephen Ortiz",
         "orientation": "v",
         "showlegend": true,
         "type": "scatter",
         "x": [
          1
         ],
         "xaxis": "x",
         "y": [
          2
         ],
         "yaxis": "y"
        },
        {
         "hovertemplate": "<b>%{hovertext}</b><br><br>Name=Jenna Berg<br>f1=%{x}<br>f2=%{y}<br>size=%{marker.size}<extra></extra>",
         "hovertext": [
          "Jenna Berg"
         ],
         "legendgroup": "Jenna Berg",
         "marker": {
          "color": "#B6E880",
          "opacity": 0.4,
          "size": [
           398.1621351436471
          ],
          "sizemode": "area",
          "sizeref": 1.1675543949453122,
          "symbol": "circle"
         },
         "mode": "markers",
         "name": "Jenna Berg",
         "orientation": "v",
         "showlegend": true,
         "type": "scatter",
         "x": [
          3
         ],
         "xaxis": "x",
         "y": [
          1
         ],
         "yaxis": "y"
        },
        {
         "hovertemplate": "<b>%{hovertext}</b><br><br>Name=Alexandra Smith<br>f1=%{x}<br>f2=%{y}<br>size=%{marker.size}<extra></extra>",
         "hovertext": [
          "Alexandra Smith"
         ],
         "legendgroup": "Alexandra Smith",
         "marker": {
          "color": "#FF97FF",
          "opacity": 0.4,
          "size": [
           115.32110449687372
          ],
          "sizemode": "area",
          "sizeref": 1.1675543949453122,
          "symbol": "circle"
         },
         "mode": "markers",
         "name": "Alexandra Smith",
         "orientation": "v",
         "showlegend": true,
         "type": "scatter",
         "x": [
          2
         ],
         "xaxis": "x",
         "y": [
          3
         ],
         "yaxis": "y"
        },
        {
         "hovertemplate": "<b>%{hovertext}</b><br><br>Name=Juan Butler<br>f1=%{x}<br>f2=%{y}<br>size=%{marker.size}<extra></extra>",
         "hovertext": [
          "Juan Butler"
         ],
         "legendgroup": "Juan Butler",
         "marker": {
          "color": "#FECB52",
          "opacity": 0.4,
          "size": [
           26.010650532204803
          ],
          "sizemode": "area",
          "sizeref": 1.1675543949453122,
          "symbol": "circle"
         },
         "mode": "markers",
         "name": "Juan Butler",
         "orientation": "v",
         "showlegend": true,
         "type": "scatter",
         "x": [
          3
         ],
         "xaxis": "x",
         "y": [
          2
         ],
         "yaxis": "y"
        }
       ],
       "layout": {
        "legend": {
         "itemsizing": "constant",
         "title": {
          "text": "Name"
         },
         "tracegroupgap": 0
        },
        "margin": {
         "t": 60
        },
        "template": {
         "data": {
          "bar": [
           {
            "error_x": {
             "color": "#2a3f5f"
            },
            "error_y": {
             "color": "#2a3f5f"
            },
            "marker": {
             "line": {
              "color": "#E5ECF6",
              "width": 0.5
             },
             "pattern": {
              "fillmode": "overlay",
              "size": 10,
              "solidity": 0.2
             }
            },
            "type": "bar"
           }
          ],
          "barpolar": [
           {
            "marker": {
             "line": {
              "color": "#E5ECF6",
              "width": 0.5
             },
             "pattern": {
              "fillmode": "overlay",
              "size": 10,
              "solidity": 0.2
             }
            },
            "type": "barpolar"
           }
          ],
          "carpet": [
           {
            "aaxis": {
             "endlinecolor": "#2a3f5f",
             "gridcolor": "white",
             "linecolor": "white",
             "minorgridcolor": "white",
             "startlinecolor": "#2a3f5f"
            },
            "baxis": {
             "endlinecolor": "#2a3f5f",
             "gridcolor": "white",
             "linecolor": "white",
             "minorgridcolor": "white",
             "startlinecolor": "#2a3f5f"
            },
            "type": "carpet"
           }
          ],
          "choropleth": [
           {
            "colorbar": {
             "outlinewidth": 0,
             "ticks": ""
            },
            "type": "choropleth"
           }
          ],
          "contour": [
           {
            "colorbar": {
             "outlinewidth": 0,
             "ticks": ""
            },
            "colorscale": [
             [
              0,
              "#0d0887"
             ],
             [
              0.1111111111111111,
              "#46039f"
             ],
             [
              0.2222222222222222,
              "#7201a8"
             ],
             [
              0.3333333333333333,
              "#9c179e"
             ],
             [
              0.4444444444444444,
              "#bd3786"
             ],
             [
              0.5555555555555556,
              "#d8576b"
             ],
             [
              0.6666666666666666,
              "#ed7953"
             ],
             [
              0.7777777777777778,
              "#fb9f3a"
             ],
             [
              0.8888888888888888,
              "#fdca26"
             ],
             [
              1,
              "#f0f921"
             ]
            ],
            "type": "contour"
           }
          ],
          "contourcarpet": [
           {
            "colorbar": {
             "outlinewidth": 0,
             "ticks": ""
            },
            "type": "contourcarpet"
           }
          ],
          "heatmap": [
           {
            "colorbar": {
             "outlinewidth": 0,
             "ticks": ""
            },
            "colorscale": [
             [
              0,
              "#0d0887"
             ],
             [
              0.1111111111111111,
              "#46039f"
             ],
             [
              0.2222222222222222,
              "#7201a8"
             ],
             [
              0.3333333333333333,
              "#9c179e"
             ],
             [
              0.4444444444444444,
              "#bd3786"
             ],
             [
              0.5555555555555556,
              "#d8576b"
             ],
             [
              0.6666666666666666,
              "#ed7953"
             ],
             [
              0.7777777777777778,
              "#fb9f3a"
             ],
             [
              0.8888888888888888,
              "#fdca26"
             ],
             [
              1,
              "#f0f921"
             ]
            ],
            "type": "heatmap"
           }
          ],
          "heatmapgl": [
           {
            "colorbar": {
             "outlinewidth": 0,
             "ticks": ""
            },
            "colorscale": [
             [
              0,
              "#0d0887"
             ],
             [
              0.1111111111111111,
              "#46039f"
             ],
             [
              0.2222222222222222,
              "#7201a8"
             ],
             [
              0.3333333333333333,
              "#9c179e"
             ],
             [
              0.4444444444444444,
              "#bd3786"
             ],
             [
              0.5555555555555556,
              "#d8576b"
             ],
             [
              0.6666666666666666,
              "#ed7953"
             ],
             [
              0.7777777777777778,
              "#fb9f3a"
             ],
             [
              0.8888888888888888,
              "#fdca26"
             ],
             [
              1,
              "#f0f921"
             ]
            ],
            "type": "heatmapgl"
           }
          ],
          "histogram": [
           {
            "marker": {
             "pattern": {
              "fillmode": "overlay",
              "size": 10,
              "solidity": 0.2
             }
            },
            "type": "histogram"
           }
          ],
          "histogram2d": [
           {
            "colorbar": {
             "outlinewidth": 0,
             "ticks": ""
            },
            "colorscale": [
             [
              0,
              "#0d0887"
             ],
             [
              0.1111111111111111,
              "#46039f"
             ],
             [
              0.2222222222222222,
              "#7201a8"
             ],
             [
              0.3333333333333333,
              "#9c179e"
             ],
             [
              0.4444444444444444,
              "#bd3786"
             ],
             [
              0.5555555555555556,
              "#d8576b"
             ],
             [
              0.6666666666666666,
              "#ed7953"
             ],
             [
              0.7777777777777778,
              "#fb9f3a"
             ],
             [
              0.8888888888888888,
              "#fdca26"
             ],
             [
              1,
              "#f0f921"
             ]
            ],
            "type": "histogram2d"
           }
          ],
          "histogram2dcontour": [
           {
            "colorbar": {
             "outlinewidth": 0,
             "ticks": ""
            },
            "colorscale": [
             [
              0,
              "#0d0887"
             ],
             [
              0.1111111111111111,
              "#46039f"
             ],
             [
              0.2222222222222222,
              "#7201a8"
             ],
             [
              0.3333333333333333,
              "#9c179e"
             ],
             [
              0.4444444444444444,
              "#bd3786"
             ],
             [
              0.5555555555555556,
              "#d8576b"
             ],
             [
              0.6666666666666666,
              "#ed7953"
             ],
             [
              0.7777777777777778,
              "#fb9f3a"
             ],
             [
              0.8888888888888888,
              "#fdca26"
             ],
             [
              1,
              "#f0f921"
             ]
            ],
            "type": "histogram2dcontour"
           }
          ],
          "mesh3d": [
           {
            "colorbar": {
             "outlinewidth": 0,
             "ticks": ""
            },
            "type": "mesh3d"
           }
          ],
          "parcoords": [
           {
            "line": {
             "colorbar": {
              "outlinewidth": 0,
              "ticks": ""
             }
            },
            "type": "parcoords"
           }
          ],
          "pie": [
           {
            "automargin": true,
            "type": "pie"
           }
          ],
          "scatter": [
           {
            "fillpattern": {
             "fillmode": "overlay",
             "size": 10,
             "solidity": 0.2
            },
            "type": "scatter"
           }
          ],
          "scatter3d": [
           {
            "line": {
             "colorbar": {
              "outlinewidth": 0,
              "ticks": ""
             }
            },
            "marker": {
             "colorbar": {
              "outlinewidth": 0,
              "ticks": ""
             }
            },
            "type": "scatter3d"
           }
          ],
          "scattercarpet": [
           {
            "marker": {
             "colorbar": {
              "outlinewidth": 0,
              "ticks": ""
             }
            },
            "type": "scattercarpet"
           }
          ],
          "scattergeo": [
           {
            "marker": {
             "colorbar": {
              "outlinewidth": 0,
              "ticks": ""
             }
            },
            "type": "scattergeo"
           }
          ],
          "scattergl": [
           {
            "marker": {
             "colorbar": {
              "outlinewidth": 0,
              "ticks": ""
             }
            },
            "type": "scattergl"
           }
          ],
          "scattermapbox": [
           {
            "marker": {
             "colorbar": {
              "outlinewidth": 0,
              "ticks": ""
             }
            },
            "type": "scattermapbox"
           }
          ],
          "scatterpolar": [
           {
            "marker": {
             "colorbar": {
              "outlinewidth": 0,
              "ticks": ""
             }
            },
            "type": "scatterpolar"
           }
          ],
          "scatterpolargl": [
           {
            "marker": {
             "colorbar": {
              "outlinewidth": 0,
              "ticks": ""
             }
            },
            "type": "scatterpolargl"
           }
          ],
          "scatterternary": [
           {
            "marker": {
             "colorbar": {
              "outlinewidth": 0,
              "ticks": ""
             }
            },
            "type": "scatterternary"
           }
          ],
          "surface": [
           {
            "colorbar": {
             "outlinewidth": 0,
             "ticks": ""
            },
            "colorscale": [
             [
              0,
              "#0d0887"
             ],
             [
              0.1111111111111111,
              "#46039f"
             ],
             [
              0.2222222222222222,
              "#7201a8"
             ],
             [
              0.3333333333333333,
              "#9c179e"
             ],
             [
              0.4444444444444444,
              "#bd3786"
             ],
             [
              0.5555555555555556,
              "#d8576b"
             ],
             [
              0.6666666666666666,
              "#ed7953"
             ],
             [
              0.7777777777777778,
              "#fb9f3a"
             ],
             [
              0.8888888888888888,
              "#fdca26"
             ],
             [
              1,
              "#f0f921"
             ]
            ],
            "type": "surface"
           }
          ],
          "table": [
           {
            "cells": {
             "fill": {
              "color": "#EBF0F8"
             },
             "line": {
              "color": "white"
             }
            },
            "header": {
             "fill": {
              "color": "#C8D4E3"
             },
             "line": {
              "color": "white"
             }
            },
            "type": "table"
           }
          ]
         },
         "layout": {
          "annotationdefaults": {
           "arrowcolor": "#2a3f5f",
           "arrowhead": 0,
           "arrowwidth": 1
          },
          "autotypenumbers": "strict",
          "coloraxis": {
           "colorbar": {
            "outlinewidth": 0,
            "ticks": ""
           }
          },
          "colorscale": {
           "diverging": [
            [
             0,
             "#8e0152"
            ],
            [
             0.1,
             "#c51b7d"
            ],
            [
             0.2,
             "#de77ae"
            ],
            [
             0.3,
             "#f1b6da"
            ],
            [
             0.4,
             "#fde0ef"
            ],
            [
             0.5,
             "#f7f7f7"
            ],
            [
             0.6,
             "#e6f5d0"
            ],
            [
             0.7,
             "#b8e186"
            ],
            [
             0.8,
             "#7fbc41"
            ],
            [
             0.9,
             "#4d9221"
            ],
            [
             1,
             "#276419"
            ]
           ],
           "sequential": [
            [
             0,
             "#0d0887"
            ],
            [
             0.1111111111111111,
             "#46039f"
            ],
            [
             0.2222222222222222,
             "#7201a8"
            ],
            [
             0.3333333333333333,
             "#9c179e"
            ],
            [
             0.4444444444444444,
             "#bd3786"
            ],
            [
             0.5555555555555556,
             "#d8576b"
            ],
            [
             0.6666666666666666,
             "#ed7953"
            ],
            [
             0.7777777777777778,
             "#fb9f3a"
            ],
            [
             0.8888888888888888,
             "#fdca26"
            ],
            [
             1,
             "#f0f921"
            ]
           ],
           "sequentialminus": [
            [
             0,
             "#0d0887"
            ],
            [
             0.1111111111111111,
             "#46039f"
            ],
            [
             0.2222222222222222,
             "#7201a8"
            ],
            [
             0.3333333333333333,
             "#9c179e"
            ],
            [
             0.4444444444444444,
             "#bd3786"
            ],
            [
             0.5555555555555556,
             "#d8576b"
            ],
            [
             0.6666666666666666,
             "#ed7953"
            ],
            [
             0.7777777777777778,
             "#fb9f3a"
            ],
            [
             0.8888888888888888,
             "#fdca26"
            ],
            [
             1,
             "#f0f921"
            ]
           ]
          },
          "colorway": [
           "#636efa",
           "#EF553B",
           "#00cc96",
           "#ab63fa",
           "#FFA15A",
           "#19d3f3",
           "#FF6692",
           "#B6E880",
           "#FF97FF",
           "#FECB52"
          ],
          "font": {
           "color": "#2a3f5f"
          },
          "geo": {
           "bgcolor": "white",
           "lakecolor": "white",
           "landcolor": "#E5ECF6",
           "showlakes": true,
           "showland": true,
           "subunitcolor": "white"
          },
          "hoverlabel": {
           "align": "left"
          },
          "hovermode": "closest",
          "mapbox": {
           "style": "light"
          },
          "paper_bgcolor": "white",
          "plot_bgcolor": "#E5ECF6",
          "polar": {
           "angularaxis": {
            "gridcolor": "white",
            "linecolor": "white",
            "ticks": ""
           },
           "bgcolor": "#E5ECF6",
           "radialaxis": {
            "gridcolor": "white",
            "linecolor": "white",
            "ticks": ""
           }
          },
          "scene": {
           "xaxis": {
            "backgroundcolor": "#E5ECF6",
            "gridcolor": "white",
            "gridwidth": 2,
            "linecolor": "white",
            "showbackground": true,
            "ticks": "",
            "zerolinecolor": "white"
           },
           "yaxis": {
            "backgroundcolor": "#E5ECF6",
            "gridcolor": "white",
            "gridwidth": 2,
            "linecolor": "white",
            "showbackground": true,
            "ticks": "",
            "zerolinecolor": "white"
           },
           "zaxis": {
            "backgroundcolor": "#E5ECF6",
            "gridcolor": "white",
            "gridwidth": 2,
            "linecolor": "white",
            "showbackground": true,
            "ticks": "",
            "zerolinecolor": "white"
           }
          },
          "shapedefaults": {
           "line": {
            "color": "#2a3f5f"
           }
          },
          "ternary": {
           "aaxis": {
            "gridcolor": "white",
            "linecolor": "white",
            "ticks": ""
           },
           "baxis": {
            "gridcolor": "white",
            "linecolor": "white",
            "ticks": ""
           },
           "bgcolor": "#E5ECF6",
           "caxis": {
            "gridcolor": "white",
            "linecolor": "white",
            "ticks": ""
           }
          },
          "title": {
           "x": 0.05
          },
          "xaxis": {
           "automargin": true,
           "gridcolor": "white",
           "linecolor": "white",
           "ticks": "",
           "title": {
            "standoff": 15
           },
           "zerolinecolor": "white",
           "zerolinewidth": 2
          },
          "yaxis": {
           "automargin": true,
           "gridcolor": "white",
           "linecolor": "white",
           "ticks": "",
           "title": {
            "standoff": 15
           },
           "zerolinecolor": "white",
           "zerolinewidth": 2
          }
         }
        },
        "xaxis": {
         "anchor": "y",
         "domain": [
          0,
          1
         ],
         "title": {
          "text": "f1"
         }
        },
        "yaxis": {
         "anchor": "x",
         "domain": [
          0,
          1
         ],
         "title": {
          "text": "f2"
         }
        }
       }
      }
     },
     "metadata": {},
     "output_type": "display_data"
    }
   ],
   "source": [
    "# plot features f1 and f2 for all members\n",
    "\n",
    "rng = np.random.default_rng(0)\n",
    "colors = rng.random(30)\n",
    "\n",
    "# random sizes so that overlapping points can be distinguished \n",
    "sizes = 500 * rng.random(30)\n",
    "\n",
    "fig = px.scatter(members, x = 'f1', y = 'f2', color ='Name', \n",
    "size=sizes, opacity=0.4, hover_name='Name')\n",
    "\n",
    "fig.show()\n",
    "\n"
   ]
  },
  {
   "cell_type": "code",
   "execution_count": 8,
   "metadata": {},
   "outputs": [
    {
     "data": {
      "text/plain": [
       "<seaborn.axisgrid.FacetGrid at 0x1781fe3c0>"
      ]
     },
     "execution_count": 8,
     "metadata": {},
     "output_type": "execute_result"
    },
    {
     "data": {
      "image/png": "[encoded data removed]",
      "text/plain": [
       "<Figure size 5191.88x500 with 10 Axes>"
      ]
     },
     "metadata": {},
     "output_type": "display_data"
    }
   ],
   "source": [
    "# instantiate model \n",
    "\n",
    "model = GaussianMixture(n_components=10,\n",
    "covariance_type = 'full')\n",
    "\n",
    "# Input data for model \n",
    "X_members = members.drop(columns ='Name', axis = 1)\n",
    "\n",
    "# fit model to member data \n",
    "model.fit(X_members)  \n",
    "\n",
    "# determine labels \n",
    "y_gmm = model.predict(X_members)\n",
    "\n",
    "# add new y_gmm to members \n",
    "members['cluster'] = y_gmm \n",
    "\n",
    "sns.lmplot(x = 'f1', y= 'f2', data=members, hue='Name',\n",
    " col='cluster', fit_reg = False)\n",
    "\n"
   ]
  },
  {
   "cell_type": "code",
   "execution_count": 10,
   "metadata": {},
   "outputs": [
    {
     "data": {
      "text/html": [
       "<div>\n",
       "<style scoped>\n",
       "    .dataframe tbody tr th:only-of-type {\n",
       "        vertical-align: middle;\n",
       "    }\n",
       "\n",
       "    .dataframe tbody tr th {\n",
       "        vertical-align: top;\n",
       "    }\n",
       "\n",
       "    .dataframe thead th {\n",
       "        text-align: right;\n",
       "    }\n",
       "</style>\n",
       "<table border=\"1\" class=\"dataframe\">\n",
       "  <thead>\n",
       "    <tr style=\"text-align: right;\">\n",
       "      <th></th>\n",
       "      <th>Name</th>\n",
       "      <th>f1</th>\n",
       "      <th>f2</th>\n",
       "      <th>cluster</th>\n",
       "    </tr>\n",
       "  </thead>\n",
       "  <tbody>\n",
       "    <tr>\n",
       "      <th>16</th>\n",
       "      <td>John Wilkerson</td>\n",
       "      <td>2</td>\n",
       "      <td>3</td>\n",
       "      <td>0</td>\n",
       "    </tr>\n",
       "    <tr>\n",
       "      <th>28</th>\n",
       "      <td>Alexandra Smith</td>\n",
       "      <td>2</td>\n",
       "      <td>3</td>\n",
       "      <td>0</td>\n",
       "    </tr>\n",
       "    <tr>\n",
       "      <th>0</th>\n",
       "      <td>Stephen George</td>\n",
       "      <td>2</td>\n",
       "      <td>5</td>\n",
       "      <td>1</td>\n",
       "    </tr>\n",
       "    <tr>\n",
       "      <th>1</th>\n",
       "      <td>Alicia Jenkins</td>\n",
       "      <td>3</td>\n",
       "      <td>5</td>\n",
       "      <td>1</td>\n",
       "    </tr>\n",
       "    <tr>\n",
       "      <th>22</th>\n",
       "      <td>Angela Rogers</td>\n",
       "      <td>2</td>\n",
       "      <td>5</td>\n",
       "      <td>1</td>\n",
       "    </tr>\n",
       "    <tr>\n",
       "      <th>5</th>\n",
       "      <td>Jeffrey Fernandez</td>\n",
       "      <td>2</td>\n",
       "      <td>5</td>\n",
       "      <td>1</td>\n",
       "    </tr>\n",
       "    <tr>\n",
       "      <th>15</th>\n",
       "      <td>Cole Edwards</td>\n",
       "      <td>2</td>\n",
       "      <td>5</td>\n",
       "      <td>1</td>\n",
       "    </tr>\n",
       "    <tr>\n",
       "      <th>20</th>\n",
       "      <td>Mrs. Melissa Jackson</td>\n",
       "      <td>2</td>\n",
       "      <td>1</td>\n",
       "      <td>2</td>\n",
       "    </tr>\n",
       "    <tr>\n",
       "      <th>14</th>\n",
       "      <td>Sarah Ross</td>\n",
       "      <td>2</td>\n",
       "      <td>2</td>\n",
       "      <td>2</td>\n",
       "    </tr>\n",
       "    <tr>\n",
       "      <th>4</th>\n",
       "      <td>Eric Bowman</td>\n",
       "      <td>2</td>\n",
       "      <td>1</td>\n",
       "      <td>2</td>\n",
       "    </tr>\n",
       "    <tr>\n",
       "      <th>19</th>\n",
       "      <td>Heidi Stevens</td>\n",
       "      <td>1</td>\n",
       "      <td>3</td>\n",
       "      <td>3</td>\n",
       "    </tr>\n",
       "    <tr>\n",
       "      <th>25</th>\n",
       "      <td>Robert Brown</td>\n",
       "      <td>1</td>\n",
       "      <td>3</td>\n",
       "      <td>3</td>\n",
       "    </tr>\n",
       "    <tr>\n",
       "      <th>18</th>\n",
       "      <td>Elizabeth Taylor</td>\n",
       "      <td>1</td>\n",
       "      <td>3</td>\n",
       "      <td>3</td>\n",
       "    </tr>\n",
       "    <tr>\n",
       "      <th>11</th>\n",
       "      <td>Michael Rodriguez</td>\n",
       "      <td>1</td>\n",
       "      <td>1</td>\n",
       "      <td>4</td>\n",
       "    </tr>\n",
       "    <tr>\n",
       "      <th>2</th>\n",
       "      <td>Stacey Hoffman</td>\n",
       "      <td>1</td>\n",
       "      <td>1</td>\n",
       "      <td>4</td>\n",
       "    </tr>\n",
       "    <tr>\n",
       "      <th>21</th>\n",
       "      <td>Shirley Mercado</td>\n",
       "      <td>1</td>\n",
       "      <td>1</td>\n",
       "      <td>4</td>\n",
       "    </tr>\n",
       "    <tr>\n",
       "      <th>3</th>\n",
       "      <td>Amber King</td>\n",
       "      <td>1</td>\n",
       "      <td>1</td>\n",
       "      <td>4</td>\n",
       "    </tr>\n",
       "    <tr>\n",
       "      <th>24</th>\n",
       "      <td>Scott Baldwin</td>\n",
       "      <td>2</td>\n",
       "      <td>4</td>\n",
       "      <td>5</td>\n",
       "    </tr>\n",
       "    <tr>\n",
       "      <th>9</th>\n",
       "      <td>Tamara Palmer</td>\n",
       "      <td>2</td>\n",
       "      <td>4</td>\n",
       "      <td>5</td>\n",
       "    </tr>\n",
       "    <tr>\n",
       "      <th>6</th>\n",
       "      <td>Anthony Edwards</td>\n",
       "      <td>3</td>\n",
       "      <td>4</td>\n",
       "      <td>5</td>\n",
       "    </tr>\n",
       "    <tr>\n",
       "      <th>23</th>\n",
       "      <td>Gregory Hines</td>\n",
       "      <td>1</td>\n",
       "      <td>2</td>\n",
       "      <td>6</td>\n",
       "    </tr>\n",
       "    <tr>\n",
       "      <th>26</th>\n",
       "      <td>Stephen Ortiz</td>\n",
       "      <td>1</td>\n",
       "      <td>2</td>\n",
       "      <td>6</td>\n",
       "    </tr>\n",
       "    <tr>\n",
       "      <th>17</th>\n",
       "      <td>Cheyenne Lucas</td>\n",
       "      <td>1</td>\n",
       "      <td>2</td>\n",
       "      <td>6</td>\n",
       "    </tr>\n",
       "    <tr>\n",
       "      <th>7</th>\n",
       "      <td>John Galloway</td>\n",
       "      <td>3</td>\n",
       "      <td>1</td>\n",
       "      <td>7</td>\n",
       "    </tr>\n",
       "    <tr>\n",
       "      <th>27</th>\n",
       "      <td>Jenna Berg</td>\n",
       "      <td>3</td>\n",
       "      <td>1</td>\n",
       "      <td>7</td>\n",
       "    </tr>\n",
       "    <tr>\n",
       "      <th>29</th>\n",
       "      <td>Juan Butler</td>\n",
       "      <td>3</td>\n",
       "      <td>2</td>\n",
       "      <td>7</td>\n",
       "    </tr>\n",
       "    <tr>\n",
       "      <th>8</th>\n",
       "      <td>Jocelyn Lee</td>\n",
       "      <td>1</td>\n",
       "      <td>5</td>\n",
       "      <td>8</td>\n",
       "    </tr>\n",
       "    <tr>\n",
       "      <th>10</th>\n",
       "      <td>Mary Carrillo</td>\n",
       "      <td>1</td>\n",
       "      <td>5</td>\n",
       "      <td>8</td>\n",
       "    </tr>\n",
       "    <tr>\n",
       "      <th>13</th>\n",
       "      <td>Matthew Barron</td>\n",
       "      <td>1</td>\n",
       "      <td>4</td>\n",
       "      <td>9</td>\n",
       "    </tr>\n",
       "    <tr>\n",
       "      <th>12</th>\n",
       "      <td>Daniel Franklin</td>\n",
       "      <td>1</td>\n",
       "      <td>4</td>\n",
       "      <td>9</td>\n",
       "    </tr>\n",
       "  </tbody>\n",
       "</table>\n",
       "</div>"
      ],
      "text/plain": [
       "                    Name  f1  f2  cluster\n",
       "16        John Wilkerson   2   3        0\n",
       "28       Alexandra Smith   2   3        0\n",
       "0         Stephen George   2   5        1\n",
       "1         Alicia Jenkins   3   5        1\n",
       "22         Angela Rogers   2   5        1\n",
       "5      Jeffrey Fernandez   2   5        1\n",
       "15          Cole Edwards   2   5        1\n",
       "20  Mrs. Melissa Jackson   2   1        2\n",
       "14            Sarah Ross   2   2        2\n",
       "4            Eric Bowman   2   1        2\n",
       "19         Heidi Stevens   1   3        3\n",
       "25          Robert Brown   1   3        3\n",
       "18      Elizabeth Taylor   1   3        3\n",
       "11     Michael Rodriguez   1   1        4\n",
       "2         Stacey Hoffman   1   1        4\n",
       "21       Shirley Mercado   1   1        4\n",
       "3             Amber King   1   1        4\n",
       "24         Scott Baldwin   2   4        5\n",
       "9          Tamara Palmer   2   4        5\n",
       "6        Anthony Edwards   3   4        5\n",
       "23         Gregory Hines   1   2        6\n",
       "26         Stephen Ortiz   1   2        6\n",
       "17        Cheyenne Lucas   1   2        6\n",
       "7          John Galloway   3   1        7\n",
       "27            Jenna Berg   3   1        7\n",
       "29           Juan Butler   3   2        7\n",
       "8            Jocelyn Lee   1   5        8\n",
       "10         Mary Carrillo   1   5        8\n",
       "13        Matthew Barron   1   4        9\n",
       "12       Daniel Franklin   1   4        9"
      ]
     },
     "execution_count": 10,
     "metadata": {},
     "output_type": "execute_result"
    }
   ],
   "source": [
    "# print members sorted by clusters \n",
    "\n",
    "members = members.sort_values(by=['cluster'])\n",
    "members"
   ]
  }
 ],
 "metadata": {
  "kernelspec": {
   "display_name": "example",
   "language": "python",
   "name": "python3"
  },
  "language_info": {
   "codemirror_mode": {
    "name": "ipython",
    "version": 3
   },
   "file_extension": ".py",
   "mimetype": "text/x-python",
   "name": "python",
   "nbconvert_exporter": "python",
   "pygments_lexer": "ipython3",
   "version": "3.12.6"
  }
 },
 "nbformat": 4,
 "nbformat_minor": 2
}
