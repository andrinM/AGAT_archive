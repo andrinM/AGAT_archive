{
 "cells": [
  {
   "cell_type": "markdown",
   "metadata": {},
   "source": [
    "# Evaluation ACO \n",
    "Tests with DataFrames, where the ground truth is known. \n",
    "Set up for Algorithm: \n",
    "10 solutuîons per iteration, 10 iterations, groups of 3 members. (as base case)\n",
    "## Homogeneous Features\n",
    "DataFrame: values in range 1 to 5. The feature contains exactly 6 times each value. \n",
    "Groundtruth: groups where within each group only same values occure. Test passed.\n",
    "## Heterogeneous Features\n",
    "DataFrame: values in range 1 to 3. Feature contains exactly 10 times each value.\n",
    "Groundtruth: groups where each value occurs exactly once. \n",
    "Test fails with 10 soulutions per iteration and 10 iterations.\n",
    "test passes with 30 solutions per iteration and 20 iterations sometimes.\n",
    "test passes with 35 solutions per iterations and 20 iterations around 50 percent.\n",
    "Problem: distances are not very different for a group (1,2,1) (distance = 2.002) or (1,2,3) (distance = 2.001).\n",
    "Possible solution: different encoding. Range 1 to 3, encode it as 1 = [0,0,1], 2 = [0,1,0], 3 = [1,0,0]\n",
    "## Categorical Homogeneous Features\n",
    "DataFrame: categorical values 9 x [1,0,0], 9 x [0,1,0] and  12 x [0,0,1].\n",
    "Test passes with 10 solutions per iteration and 10 iterations.\n",
    "## Categorical Heterogeneous Features\n",
    "DataFrame: categorical values [1,0,0], [0,1,0] and [0,0,1] each 10 times. \n",
    "test passes with 10 solutions per iteration and 10 iterations "
   ]
  },
  {
   "cell_type": "code",
   "execution_count": null,
   "metadata": {},
   "outputs": [],
   "source": []
  }
 ],
 "metadata": {
  "language_info": {
   "name": "python"
  }
 },
 "nbformat": 4,
 "nbformat_minor": 2
}
